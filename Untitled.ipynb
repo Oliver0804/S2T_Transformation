{
 "cells": [
  {
   "cell_type": "code",
   "execution_count": 51,
   "id": "1af9debf-3e15-47d5-92e1-7e3b05a58c63",
   "metadata": {},
   "outputs": [
    {
     "name": "stdout",
     "output_type": "stream",
     "text": [
      "好的，\"佈局\"是台灣用詞的意思是\"佈局\"。\n",
      "\n",
      "\n"
     ]
    }
   ],
   "source": [
    "import ollama\n",
    "response = ollama.chat(\n",
    "    model='wangrongsheng/taiwanllm-13b-v2.0-chat',\n",
    "    messages=[\n",
    "        {'role': 'user', 'content': '你好，我想請你幫我翻譯Kicad的詞彙，都是針對電路板設計。'},\n",
    "        {'role': 'assistant', 'content': '您好！你有什麼需求？'},\n",
    "        {'role': 'user', 'content': '我想要將大陸用詞翻譯成台灣用詞'},\n",
    "        {'role': 'assistant', 'content': '好的我會協助你，並且只輸出相同翻譯的台灣詞彙作為對照的結果'},\n",
    "        {'role': 'user', 'content': '幫我翻譯\"佈局\"'},\n",
    "    ]\n",
    ")\n",
    "print(response['message']['content'])\n",
    "\n"
   ]
  },
  {
   "cell_type": "code",
   "execution_count": null,
   "id": "0a3b3725-b2fd-42b7-8b11-ffea2c3d1920",
   "metadata": {},
   "outputs": [],
   "source": []
  },
  {
   "cell_type": "code",
   "execution_count": null,
   "id": "2eb22f03-73ae-4ad6-970d-d4efe4c9bd25",
   "metadata": {},
   "outputs": [],
   "source": []
  }
 ],
 "metadata": {
  "kernelspec": {
   "display_name": "Python 3 (ipykernel)",
   "language": "python",
   "name": "python3"
  },
  "language_info": {
   "codemirror_mode": {
    "name": "ipython",
    "version": 3
   },
   "file_extension": ".py",
   "mimetype": "text/x-python",
   "name": "python",
   "nbconvert_exporter": "python",
   "pygments_lexer": "ipython3",
   "version": "3.8.19"
  }
 },
 "nbformat": 4,
 "nbformat_minor": 5
}
