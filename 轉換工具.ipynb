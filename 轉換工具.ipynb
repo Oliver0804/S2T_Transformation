{
 "cells": [
  {
   "cell_type": "code",
   "execution_count": 3,
   "id": "ca60df29-a15a-4561-a2ca-ab8e172e51f6",
   "metadata": {},
   "outputs": [],
   "source": [
    "import os\n",
    "import re\n",
    "import datetime\n",
    "\n",
    "from odf.opendocument import load\n",
    "from odf.table import Table, TableRow, TableCell\n",
    "from odf.text import P\n",
    "from tqdm import tqdm\n",
    "from opencc import OpenCC\n",
    "\n",
    "#檔案清單轉換為list\n",
    "def find_ods_files(directory):\n",
    "    ods_files = []\n",
    "    for filename in os.listdir(directory):\n",
    "        if filename.endswith(\".ods\"):\n",
    "            ods_files.append(os.path.join(directory, filename))\n",
    "    return ods_files\n",
    "\n",
    "\n",
    "def simplify_to_traditional(simplified_text):\n",
    "    cc = OpenCC('s2t')  # 簡體字轉換為繁體\n",
    "    return cc.convert(simplified_text)\n",
    "\n",
    "def get_text_from_cell(cell):\n",
    "    text_content = []\n",
    "    for p in cell.getElementsByType(P):\n",
    "        text_content.append(\"\".join(node.data for node in p.childNodes if node.nodeType == node.TEXT_NODE))\n",
    "    return \"\".join(text_content).strip()\n",
    "\n",
    "def load_translation_table(file_paths):\n",
    "    translation_dict = {}\n",
    "    for file_path in file_paths:\n",
    "        doc = load(file_path)\n",
    "        tables = doc.spreadsheet.getElementsByType(Table)\n",
    "        print(f\"Number of tables found: {len(tables)}\")  \n",
    "        for table in tables:\n",
    "            rows = list(table.getElementsByType(TableRow))\n",
    "            print(f\"Processing {len(rows)} rows in table\")  \n",
    "            for row in tqdm(rows, desc=\"Processing rows\"):\n",
    "                cells = row.getElementsByType(TableCell)\n",
    "                if len(cells) >= 5: \n",
    "                    simplified = get_text_from_cell(cells[4])\n",
    "                    traditional = get_text_from_cell(cells[2])\n",
    "                    english = get_text_from_cell(cells[1])  # 英文\n",
    "                    # 簡體字轉繁體\n",
    "                    traditional_simplified = simplify_to_traditional(simplified)\n",
    "                    translation_dict[traditional_simplified] = {'traditional': traditional, 'english': english}\n",
    "    return translation_dict\n",
    "    \n",
    "def replace_text(line, translation_dict, auto_mode):\n",
    "    for simplified, details in translation_dict.items():\n",
    "        if simplified in line:\n",
    "            # 確認是否有多個繁體\n",
    "            traditional_text = details['traditional']\n",
    "            traditional_choices = traditional_text.split('；')\n",
    "            chosen_traditional = traditional_choices[0]  # 默認ods文件第一組\n",
    "\n",
    "            if not auto_mode and len(traditional_choices) > 1:\n",
    "                # 給用戶作選擇\n",
    "                print(f\"Choose the correct translation for '{simplified}':\")\n",
    "                for idx, choice in enumerate(traditional_choices, 1):\n",
    "                    print(f\"{idx}. {choice}\")\n",
    "                # 提示用戶選擇項目\n",
    "                user_input = input(\"Enter the number of the correct translation, or press Enter to skip: \")\n",
    "                if user_input.strip() == \"\":\n",
    "                    continue  # 沒輸入數值就不修改\n",
    "                choice_index = int(user_input) - 1\n",
    "                if choice_index < len(traditional_choices):\n",
    "                    chosen_traditional = traditional_choices[choice_index]\n",
    "\n",
    "            # 替换文本\n",
    "            line = line.replace(simplified, chosen_traditional)\n",
    "    return line\n",
    "\n"
   ]
  },
  {
   "cell_type": "code",
   "execution_count": 4,
   "id": "93b8352d-4ea3-45ad-bd94-00af8adb2aa7",
   "metadata": {},
   "outputs": [
    {
     "name": "stdout",
     "output_type": "stream",
     "text": [
      "['dataset/兩岸對照名詞-計算機壓縮檔_0.ods']\n"
     ]
    }
   ],
   "source": [
    "# 設置ods文件路徑\n",
    "directory_path = \"dataset\"\n",
    "ods_files = find_ods_files(directory_path)\n",
    "print(ods_files)\n"
   ]
  },
  {
   "cell_type": "code",
   "execution_count": 5,
   "id": "cbafd0da-4d52-46ab-88dc-8758d609ebbb",
   "metadata": {},
   "outputs": [
    {
     "name": "stdout",
     "output_type": "stream",
     "text": [
      "Number of tables found: 1\n",
      "Processing 1533 rows in table\n"
     ]
    },
    {
     "name": "stderr",
     "output_type": "stream",
     "text": [
      "Processing rows: 100%|███████████████████████████████████████| 1533/1533 [00:22<00:00, 69.66it/s]\n"
     ]
    }
   ],
   "source": [
    "#針對taotieren事件採用繁體字的大陸詞彙\n",
    "#會將大陸詞彙轉換為繁體字的大陸詞彙的預處理\n",
    "\n",
    "translation_dict = load_translation_table(ods_files)"
   ]
  },
  {
   "cell_type": "code",
   "execution_count": 6,
   "id": "ca657b06-7df2-499a-900a-56db2895e9c0",
   "metadata": {},
   "outputs": [
    {
     "name": "stdout",
     "output_type": "stream",
     "text": [
      "English                       Simplified    Traditional         \n",
      "----------------------------------------------------------------\n",
      "英文名稱                          中國大陸譯名        中文名稱                \n",
      "See abnormal end              反常結束          異常終止                \n",
      "abort                         夭折【動】         打斷；放棄；異常中止；中斷；故障(...\n",
      "accelerator                   加速器           加速器                 \n",
      "access                        訪問            存取；進接；讀取；進出；擷取；     \n",
      "access path                   訪問路徑          存取路徑                \n",
      "access right                  訪問權           存取權；使用權限            \n",
      "accountability                可覈查性          可歸責性                \n",
      "accumulator                   累加器           存儲器；累加器；蓄電池；儲能電路    \n",
      "acknowledgment                確認            應答                  \n"
     ]
    }
   ],
   "source": [
    "# format_and_trim\n",
    "def format_and_trim(text, max_length):\n",
    "    if len(text) > max_length:\n",
    "        return text[:max_length-3] + '...'\n",
    "    return text\n",
    "\n",
    "# 動態計算為了未來py文件於終端機運行\n",
    "max_length_english = max(len(format_and_trim(detail['english'], 30)) for simplified, detail in translation_dict.items())\n",
    "max_length_simplified = max(len(format_and_trim(simplified, 20)) for simplified in translation_dict.keys())\n",
    "max_length_traditional = max(len(format_and_trim(detail['traditional'], 20)) for simplified, detail in translation_dict.items())\n",
    "\n",
    "# 欄位資訊\n",
    "print(f\"{'English'.ljust(max_length_english)}{'Simplified'.ljust(max_length_simplified)}{'Traditional'.ljust(max_length_traditional)}\")\n",
    "print(\"-\" * (max_length_english + max_length_simplified + max_length_traditional))\n",
    "\n",
    "\n",
    "for index, (simplified, details) in enumerate(translation_dict.items()):\n",
    "    if index < 10:\n",
    "        traditional = format_and_trim(details['traditional'], max_length_traditional)\n",
    "        english = format_and_trim(details['english'], max_length_english)\n",
    "        simplified = format_and_trim(simplified, max_length_simplified)\n",
    "        print(f\"{english.ljust(max_length_english)}{simplified.ljust(max_length_simplified)}{traditional.ljust(max_length_traditional)}\")\n"
   ]
  },
  {
   "cell_type": "code",
   "execution_count": null,
   "id": "a6d211e6-cfb1-4cf0-a1ea-f79ae81d8b7d",
   "metadata": {},
   "outputs": [],
   "source": []
  },
  {
   "cell_type": "code",
   "execution_count": 7,
   "id": "86f4057d-09a7-44d8-8c96-ae48b707887a",
   "metadata": {},
   "outputs": [],
   "source": [
    "#input_document = \"KiCad_dev_testdata.po\"\n",
    "input_document = \"KiCad Taipei source zh Hant.po\"\n",
    "output_document = \"KiCad_dev_testdata_translated.po\"\n",
    "auto_mode = True  # 手動模式 有bug還沒修好= =\n",
    "debug_mode = False  # 開啟會打印更多資訊\n",
    "logging_mode = True #如果開啟 會將有翻譯的行數與翻譯前後結果記錄於另外檔案"
   ]
  },
  {
   "cell_type": "code",
   "execution_count": 8,
   "id": "1a25d872-9082-43ea-8668-9b404f7a9e0c",
   "metadata": {},
   "outputs": [],
   "source": [
    "def process_po_file(input_file, output_file, translation_dict, auto_mode=False, debug_mode=False, logging_mode=False):\n",
    "    pattern = re.compile(r'^(msgid|msgstr)\\s+\"(.+?)\"$')\n",
    "    log_directory = \"log\"\n",
    "    log_file_name = os.path.join(log_directory, datetime.datetime.now().strftime(\"%Y%m%d-%H%M%S\") + \".log\")\n",
    "    \n",
    "\n",
    "    if not os.path.exists(log_directory):\n",
    "        os.makedirs(log_directory)\n",
    "    \n",
    "    translated_count = 0  # 計算任不認真\n",
    "    try:\n",
    "        with open(input_file, 'r', encoding='utf-8') as infile, open(output_file, 'w', encoding='utf-8') as outfile:\n",
    "            line_number = 0  \n",
    "            log_entries = [] \n",
    "            \n",
    "            for line in tqdm(infile, desc=\"Translating .po file\"):\n",
    "                line_number += 1\n",
    "                if debug_mode:\n",
    "                    print(f\"Original line: {line.strip()}\")  # 打印原始行\n",
    "\n",
    "                match = pattern.match(line.strip())\n",
    "                if match:\n",
    "                    tag, original_text = match.groups()\n",
    "                    translated_text = replace_text(original_text, translation_dict, auto_mode)\n",
    "                    newline = f'{tag} \"{translated_text}\"\\n'\n",
    "                    outfile.write(newline)\n",
    "\n",
    "                    if debug_mode:\n",
    "                        print(f\"Translated line: {newline.strip()}\")\n",
    "\n",
    "                    if logging_mode and original_text != translated_text:\n",
    "                        log_entry = f\"[{line_number}:{tag}] <{original_text}> -> <{translated_text}>\\n\"\n",
    "                        log_entries.append(log_entry)\n",
    "\n",
    "                    if original_text != translated_text:\n",
    "                        translated_count += 1  # 認真值+1\n",
    "\n",
    "                else:\n",
    "                    outfile.write(line)\n",
    "                    if debug_mode:\n",
    "                        print(f\"Unchanged line: {line.strip()}\")\n",
    "\n",
    "        if logging_mode and log_entries:\n",
    "            with open(log_file_name, 'w', encoding='utf-8') as log_file:\n",
    "                log_file.writelines(log_entries)\n",
    "\n",
    "        print(f\"總共修正了: {translated_count} 簡體詞彙\")  \n",
    "\n",
    "    except Exception as e:\n",
    "        print(f\"Error processing file: {e}\")\n"
   ]
  },
  {
   "cell_type": "code",
   "execution_count": 9,
   "id": "421890bb-8340-45a8-8249-2be8ea162070",
   "metadata": {},
   "outputs": [
    {
     "name": "stderr",
     "output_type": "stream",
     "text": [
      "Translating .po file: 61495it [00:00, 97473.43it/s]"
     ]
    },
    {
     "name": "stdout",
     "output_type": "stream",
     "text": [
      "總共修正了: 2543 簡體詞彙\n"
     ]
    },
    {
     "name": "stderr",
     "output_type": "stream",
     "text": [
      "\n"
     ]
    }
   ],
   "source": [
    "process_po_file(input_document, output_document, translation_dict, auto_mode, debug_mode, logging_mode)\n"
   ]
  },
  {
   "cell_type": "code",
   "execution_count": null,
   "id": "f265170d-f264-41d5-9169-1908241e9588",
   "metadata": {},
   "outputs": [],
   "source": []
  }
 ],
 "metadata": {
  "kernelspec": {
   "display_name": "Python 3 (ipykernel)",
   "language": "python",
   "name": "python3"
  },
  "language_info": {
   "codemirror_mode": {
    "name": "ipython",
    "version": 3
   },
   "file_extension": ".py",
   "mimetype": "text/x-python",
   "name": "python",
   "nbconvert_exporter": "python",
   "pygments_lexer": "ipython3",
   "version": "3.8.19"
  }
 },
 "nbformat": 4,
 "nbformat_minor": 5
}
