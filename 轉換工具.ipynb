{
 "cells": [
  {
   "cell_type": "code",
   "execution_count": 27,
   "id": "ca60df29-a15a-4561-a2ca-ab8e172e51f6",
   "metadata": {},
   "outputs": [],
   "source": [
    "import os\n",
    "import re\n",
    "import datetime\n",
    "import csv\n",
    "\n",
    "from odf.opendocument import load\n",
    "from odf.table import Table, TableRow, TableCell\n",
    "from odf.text import P\n",
    "from tqdm import tqdm\n",
    "from opencc import OpenCC\n",
    "\n",
    "import math\n",
    "\n",
    "#檔案清單轉換為list\n",
    "def find_ods_files(directory):\n",
    "    ods_files = []\n",
    "    for filename in os.listdir(directory):\n",
    "        if filename.endswith(\".ods\"):\n",
    "            ods_files.append(os.path.join(directory, filename))\n",
    "    return ods_files\n",
    "def find_csv_files(directory):\n",
    "    csv_files = []\n",
    "    for filename in os.listdir(directory):\n",
    "        if filename.endswith(\".csv\"):\n",
    "            csv_files.append(os.path.join(directory, filename))\n",
    "    # 最倒序排列\n",
    "    csv_files.sort(reverse=True)\n",
    "    return csv_files\n",
    "\n",
    "def simplify_to_traditional(simplified_text):\n",
    "    cc = OpenCC('s2t')  # 簡體字轉換為繁體\n",
    "    return cc.convert(simplified_text)\n",
    "\n",
    "def get_text_from_cell(cell):\n",
    "    text_content = []\n",
    "    for p in cell.getElementsByType(P):\n",
    "        text_content.append(\"\".join(node.data for node in p.childNodes if node.nodeType == node.TEXT_NODE))\n",
    "    return \"\".join(text_content).strip()\n",
    "\n",
    "def load_translation_table_from_ods(file_paths):\n",
    "    translation_dict = {}\n",
    "    for file_path in file_paths:\n",
    "        doc = load(file_path)\n",
    "        tables = doc.spreadsheet.getElementsByType(Table)\n",
    "        print(f\"Number of tables found: {len(tables)}\")  \n",
    "        for table in tables:\n",
    "            rows = list(table.getElementsByType(TableRow))\n",
    "            print(f\"Processing {len(rows)} rows in table\")  \n",
    "            for row in tqdm(rows, desc=\"Processing rows\"):\n",
    "                cells = row.getElementsByType(TableCell)\n",
    "                if len(cells) >= 5: \n",
    "                    simplified = get_text_from_cell(cells[4])\n",
    "                    traditional = get_text_from_cell(cells[2])\n",
    "                    english = get_text_from_cell(cells[1])  # 英文\n",
    "                    # 簡體字轉繁體\n",
    "                    traditional_simplified = simplify_to_traditional(simplified)\n",
    "                    translation_dict[traditional_simplified] = {'traditional': traditional, 'english': english}\n",
    "    return translation_dict\n",
    "\n",
    "\n",
    "def load_translation_table_from_csv(file_paths):\n",
    "    translation_dict = {}\n",
    "    duplicate_count = 0  # 计数重复的词汇\n",
    "    ignored_count = 0    # 计数因缺失字段而忽略的行\n",
    "    for file_path in file_paths:\n",
    "        with open(file_path, newline='', encoding='utf-8') as csvfile:\n",
    "            reader = csv.DictReader(csvfile)\n",
    "            # 使用tqdm包装reader，提供进度条\n",
    "            for row in tqdm(reader, desc=f\"Processing {file_path}\"):\n",
    "                simplified = row['zh-cn'].strip()\n",
    "                traditional = row['zh-tw'].strip()\n",
    "                english = row['en'].strip()\n",
    "                if simplified and traditional and english:\n",
    "                    traditional_simplified = simplify_to_traditional(simplified)\n",
    "                    if traditional_simplified in translation_dict:\n",
    "                        duplicate_count += 1\n",
    "                    translation_dict[traditional_simplified] = {'traditional': traditional, 'english': english}\n",
    "                else:\n",
    "                    ignored_count += 1\n",
    "            print(f\"Total rows processed in {file_path}: {reader.line_num - 1}\")  # line_num 计算包括标题行在内的行数\n",
    "    print(f\"Duplicates found: {duplicate_count}\")\n",
    "    print(f\"Rows ignored due to missing fields: {ignored_count}\")\n",
    "    return translation_dict\n",
    "\n"
   ]
  },
  {
   "cell_type": "code",
   "execution_count": 28,
   "id": "aba3c5cb-1cc6-4fa5-a572-de618f7a85d1",
   "metadata": {},
   "outputs": [],
   "source": [
    "def replace_text(line, translation_dict, auto_mode):\n",
    "    auto_replace = auto_mode\n",
    "    stop_processing = False\n",
    "    matches = []\n",
    "\n",
    "    # 尋找所有可能的替換\n",
    "    for simplified, details in translation_dict.items():\n",
    "        start = 0\n",
    "        while simplified in line[start:]:\n",
    "            start = line.find(simplified, start)\n",
    "            if start == -1:\n",
    "                break\n",
    "            end = start + len(simplified)\n",
    "            matches.append((start, end, simplified, details))\n",
    "            start += len(simplified)  # 避免重複檢查\n",
    "\n",
    "    # 按起始位置和長度排序，實現最長匹配優先\n",
    "    matches.sort(key=lambda x: (x[0], x[1] - x[0]), reverse=True)\n",
    "\n",
    "    replaced_ranges = []\n",
    "    for start, end, simplified, details in matches:\n",
    "        if any(start >= r[0] and end <= r[1] for r in replaced_ranges):\n",
    "            continue  # 如果當前詞已經在替換範圍內，則跳過\n",
    "\n",
    "        traditional_text = details['traditional']\n",
    "        traditional_choices = traditional_text.split('；')\n",
    "        chosen_traditional = traditional_choices[0]  # 預設選擇第一組\n",
    "\n",
    "        if not auto_replace:\n",
    "            print(f\"找到的文字: '{simplified}' 可以被替換成 '{chosen_traditional}'.\")\n",
    "            if len(traditional_choices) > 1:\n",
    "                print(f\"為 '{simplified}' 提供了多個選擇:\")\n",
    "                for idx, choice in enumerate(traditional_choices, 1):\n",
    "                    print(f\"{idx}. {choice}\")\n",
    "                print(f\"{len(traditional_choices) + 1}. 跳過替換\")\n",
    "            else:\n",
    "                print(\"只有一個選擇可用。按 Enter 鍵跳過。\")\n",
    "            print(\"輸入 'auto' 切換到自動替換模式，輸入 'stop' 停止處理。\")\n",
    "\n",
    "            user_input = input(\"輸入編號進行替換，'auto' 自動替換，'stop' 停止，'n' 跳過: \").strip().lower()\n",
    "            if user_input == 'auto':\n",
    "                auto_replace = True\n",
    "                chosen_traditional = traditional_choices[0]\n",
    "            elif user_input == 'stop':\n",
    "                stop_processing = True\n",
    "                break\n",
    "            elif user_input == 'n':\n",
    "                continue\n",
    "            elif user_input.isdigit():\n",
    "                choice_index = int(user_input) - 1\n",
    "                if 0 <= choice_index < len(traditional_choices):\n",
    "                    chosen_traditional = traditional_choices[choice_index]\n",
    "                else:\n",
    "                    print(\"無效的選擇，跳過替換。\")\n",
    "                    continue\n",
    "            elif user_input == \"\":\n",
    "                # 沒有輸入任何值，使用預設選項進行替換\n",
    "                print(f\"進行替換: '{simplified}' -> '{chosen_traditional}'\")\n",
    "            else:\n",
    "                print(\"無效的輸入，跳過替換。\")\n",
    "                continue\n",
    "\n",
    "        # 替換文字並更新替換範圍\n",
    "        line = line[:start] + chosen_traditional + line[end:]\n",
    "        replaced_ranges.append((start, start + len(chosen_traditional)))\n",
    "\n",
    "    return line, auto_replace, stop_processing\n"
   ]
  },
  {
   "cell_type": "code",
   "execution_count": 29,
   "id": "93b8352d-4ea3-45ad-bd94-00af8adb2aa7",
   "metadata": {},
   "outputs": [
    {
     "name": "stdout",
     "output_type": "stream",
     "text": [
      "['dataset/兩岸對照名詞-計算機壓縮檔_Oliver微調.ods']\n",
      "['./wikiCGroupTools/outputData/CGroup_Windows_Data.csv', './wikiCGroupTools/outputData/CGroup_SignalsandSystems_Data.csv', './wikiCGroupTools/outputData/CGroup_MediaWiki_Data.csv', './wikiCGroupTools/outputData/CGroup_IT_Temp_Data.csv', './wikiCGroupTools/outputData/CGroup_IT_Data.csv', './wikiCGroupTools/outputData/CGroup_Electronics_Data.csv', './wikiCGroupTools/outputData/CGroup_Communication_Data.csv', './wikiCGroupTools/outputData/0_Kicad_data.csv', './wikiCGroupTools/outputData/0_Kicad_PoMingLee.csv']\n"
     ]
    }
   ],
   "source": [
    "# 設置ods文件路徑資料夾\n",
    "directory_path = \"dataset\"\n",
    "ods_files = find_ods_files(directory_path)\n",
    "print(ods_files)\n",
    "# 載入csv翻譯表資料夾\n",
    "directory_path = \"./wikiCGroupTools/outputData\"\n",
    "csv_files = find_csv_files(directory_path)\n",
    "print(csv_files)"
   ]
  },
  {
   "cell_type": "code",
   "execution_count": 30,
   "id": "86f4057d-09a7-44d8-8c96-ae48b707887a",
   "metadata": {},
   "outputs": [],
   "source": [
    "input_document = \"KiCad Taipei source zh Hant.po\"\n",
    "output_document = \"KiCad Taipei source zh Hant_translated.po\"\n",
    "auto_mode = False   # 自動模式\n",
    "debug_mode = False  # 開啟會打印更多資訊\n",
    "logging_mode = True # 如果開啟 會將有翻譯的行數與翻譯前後結果記錄於另外檔案\n",
    "use_ods = False     # 使用ods文件(False: 不使用樂詞網數據)"
   ]
  },
  {
   "cell_type": "code",
   "execution_count": 31,
   "id": "cbafd0da-4d52-46ab-88dc-8758d609ebbb",
   "metadata": {},
   "outputs": [
    {
     "name": "stderr",
     "output_type": "stream",
     "text": [
      "Processing ./wikiCGroupTools/outputData/CGroup_Windows_Data.csv: 104it [00:01, 70.25it/s]\n"
     ]
    },
    {
     "name": "stdout",
     "output_type": "stream",
     "text": [
      "Total rows processed in ./wikiCGroupTools/outputData/CGroup_Windows_Data.csv: 104\n"
     ]
    },
    {
     "name": "stderr",
     "output_type": "stream",
     "text": [
      "Processing ./wikiCGroupTools/outputData/CGroup_SignalsandSystems_Data.csv: 20it [00:00, 62.77it/s]\n"
     ]
    },
    {
     "name": "stdout",
     "output_type": "stream",
     "text": [
      "Total rows processed in ./wikiCGroupTools/outputData/CGroup_SignalsandSystems_Data.csv: 20\n"
     ]
    },
    {
     "name": "stderr",
     "output_type": "stream",
     "text": [
      "Processing ./wikiCGroupTools/outputData/CGroup_MediaWiki_Data.csv: 78it [00:01, 71.50it/s]\n"
     ]
    },
    {
     "name": "stdout",
     "output_type": "stream",
     "text": [
      "Total rows processed in ./wikiCGroupTools/outputData/CGroup_MediaWiki_Data.csv: 78\n"
     ]
    },
    {
     "name": "stderr",
     "output_type": "stream",
     "text": [
      "Processing ./wikiCGroupTools/outputData/CGroup_IT_Temp_Data.csv: 1107it [00:16, 69.18it/s]\n"
     ]
    },
    {
     "name": "stdout",
     "output_type": "stream",
     "text": [
      "Total rows processed in ./wikiCGroupTools/outputData/CGroup_IT_Temp_Data.csv: 1107\n"
     ]
    },
    {
     "name": "stderr",
     "output_type": "stream",
     "text": [
      "Processing ./wikiCGroupTools/outputData/CGroup_IT_Data.csv: 1136it [00:16, 69.19it/s]\n"
     ]
    },
    {
     "name": "stdout",
     "output_type": "stream",
     "text": [
      "Total rows processed in ./wikiCGroupTools/outputData/CGroup_IT_Data.csv: 1136\n"
     ]
    },
    {
     "name": "stderr",
     "output_type": "stream",
     "text": [
      "Processing ./wikiCGroupTools/outputData/CGroup_Electronics_Data.csv: 149it [00:02, 62.22it/s]\n"
     ]
    },
    {
     "name": "stdout",
     "output_type": "stream",
     "text": [
      "Total rows processed in ./wikiCGroupTools/outputData/CGroup_Electronics_Data.csv: 149\n"
     ]
    },
    {
     "name": "stderr",
     "output_type": "stream",
     "text": [
      "Processing ./wikiCGroupTools/outputData/CGroup_Communication_Data.csv: 94it [00:01, 61.39it/s]\n"
     ]
    },
    {
     "name": "stdout",
     "output_type": "stream",
     "text": [
      "Total rows processed in ./wikiCGroupTools/outputData/CGroup_Communication_Data.csv: 94\n"
     ]
    },
    {
     "name": "stderr",
     "output_type": "stream",
     "text": [
      "Processing ./wikiCGroupTools/outputData/0_Kicad_data.csv: 1it [00:00, 55.86it/s]\n"
     ]
    },
    {
     "name": "stdout",
     "output_type": "stream",
     "text": [
      "Total rows processed in ./wikiCGroupTools/outputData/0_Kicad_data.csv: 1\n"
     ]
    },
    {
     "name": "stderr",
     "output_type": "stream",
     "text": [
      "Processing ./wikiCGroupTools/outputData/0_Kicad_PoMingLee.csv: 84it [00:00, 84.16it/s] "
     ]
    },
    {
     "name": "stdout",
     "output_type": "stream",
     "text": [
      "Total rows processed in ./wikiCGroupTools/outputData/0_Kicad_PoMingLee.csv: 84\n",
      "Duplicates found: 1160\n",
      "Rows ignored due to missing fields: 227\n",
      "Number of entries in translation dictionary: 1386\n"
     ]
    },
    {
     "name": "stderr",
     "output_type": "stream",
     "text": [
      "\n"
     ]
    }
   ],
   "source": [
    "#針對taotieren事件採用繁體字的大陸詞彙\n",
    "#會將大陸詞彙轉換為繁體字的大陸詞彙的預處理\n",
    "# 初始化字典\n",
    "translation_dict = {}\n",
    "\n",
    "# 加載數據\n",
    "if use_ods:\n",
    "    translation_dict.update(load_translation_table_from_ods(ods_files))# 加載ods文件\n",
    "\n",
    "# 加載csv文件\n",
    "translation_dict.update(load_translation_table_from_csv(csv_files))# 加載csv文件\n",
    "\n",
    "\n",
    "#打印個別\n",
    "# 打印translation_dict目前詞彙數量\n",
    "print(f\"Number of entries in translation dictionary: {len(translation_dict)}\")"
   ]
  },
  {
   "cell_type": "markdown",
   "id": "a366ccc5",
   "metadata": {},
   "source": [
    "## 抽樣打印數據100筆"
   ]
  },
  {
   "cell_type": "code",
   "execution_count": 32,
   "id": "ca657b06-7df2-499a-900a-56db2895e9c0",
   "metadata": {},
   "outputs": [
    {
     "name": "stdout",
     "output_type": "stream",
     "text": [
      "English                       Simplified          Traditional         \n",
      "----------------------------------------------------------------------\n",
      "operation system              操作系統                作業系統                \n",
      "check button                  複選按鈕                核取按鈕                \n",
      "scanner                       掃描儀                 掃描器                 \n",
      "Security Center               安全中心                資訊安全中心              \n",
      "File System                   文件系統                檔案系統                \n",
      "Paint                         畫圖                  小畫家                 \n",
      "Volume Shadow Copy            卷影複製                磁碟區陰影複製             \n",
      "Convolution                   卷積                  摺積                  \n",
      "Feedback                      反饋                  回饋                  \n",
      "Default                       默認                  預設                  \n",
      "log details                   日誌詳情                日誌明細                \n",
      "source code                   源代碼                 原始碼                 \n",
      "commons                       共享資源                共享資源                \n",
      "access                        訪問                  存取                  \n",
      "agent-oriented programming    面向代理編程              代理人導向程式設計           \n",
      "Assembly language             彙編語言                組合語言                \n",
      "background traffic            後臺流量                背景流量                \n",
      "binary heap                   二叉堆                 二元堆積                \n",
      "bit (36-bit)                  36位                 36位元                \n",
      "Blade Server                  刀片服務器               刀鋒伺服器               \n",
      "Broadband                     寬帶                  寬頻                  \n",
      "calendar program              日曆程序                行事曆程式               \n",
      "chaining backward             鏈接反向                鏈結反向                \n",
      "class declaration             類聲明                 類別宣告                \n",
      "classloader                   類加載器                類別載入器               \n",
      "complexity class              複雜度類                複雜度類別               \n",
      "content-addressable memory    結合存儲                可定址內容記憶體            \n",
      "daemon                        守護進程                守護行程                \n",
      "deadlock                      死鎖                  死結                  \n",
      "digitalisation                數字化                 數位化                 \n",
      "digital terrestrial television數字地面電視              數位無線電視              \n",
      "drive - D drive               D盤                  本機磁碟(D)             \n",
      "drive - R drive               R盤                  本機磁碟(R)             \n",
      "duck typing                   鴨子類型                鴨子型別                \n",
      "Ethernet                      以太網                 乙太網路                \n",
      "filename extension            擴展名                 副檔名                 \n",
      "fiber distributed data inte...光纖分佈式數據接口           光纖分散式資料介面           \n",
      "footer                        頁腳                  頁尾                  \n",
      "fullwidth                     全角                  全形                  \n",
      "Google Toolbar                Google 工具條          Google 工具列          \n",
      "handler                       處理函數                處理常式                \n",
      "help document                 幫助文檔                說明文件                \n",
      "Integrated Device Electroni...集成設備電路              整合裝置電路              \n",
      "Information overload          信息過載                資訊超載                \n",
      "Internet bar                  網吧                  網咖                  \n",
      "Language-Oriented Programming 面向語言的程序設計           語言導向程式設計            \n",
      "lossless                      無損                  無失真                 \n",
      "mainframe                     大型機                 大型電腦                \n",
      "message box                   消息框                 訊息方塊                \n",
      "mobile app                    移動應用                行動應用                \n",
      "mobile operating system       移動操作系統              行動作業系統              \n",
      "modifier                      修飾符                 修飾詞                 \n",
      "Mobile content management     移動內容管理              行動內容管理              \n",
      "Network operator              網絡運營商               網路業者                \n",
      "online shopping               網絡購物                網路購物                \n",
      "override                      改寫                  覆寫                  \n",
      "Password Authentication Pro...密碼認證協議              通行碼鑑別協定             \n",
      "placeholder                   佔位符                 預留位置                \n",
      "post                          帖子                  貼文                  \n",
      "Programming paradigm          編程範型                程式設計範式              \n",
      "radio button                  單選按鈕                無線電鈕                \n",
      "regular language              正則語言                正規語言                \n",
      "routine                       例程                  常式                  \n",
      "scroll box                    滾動框                 捲動方塊                \n",
      "Serial computing              串行計算                序列計算                \n",
      "shortcut                      快捷方式                捷徑                  \n",
      "Snowden                       斯諾登                 史諾登                 \n",
      "spider solitaire              蜘蛛紙牌                連環新接龍               \n",
      "subnet mask                   子網掩碼                子網路遮罩               \n",
      "ternary search tree           三叉搜索樹               三元搜尋樹               \n",
      "touchscreen                   觸屏                  觸控螢幕                \n",
      "UPS                           電源保護                不斷電系統               \n",
      "video processor               視頻處理器               影像處理器               \n",
      "Watson                        沃森                  華生                  \n",
      "World Wide Web                萬維網                 全球資訊網               \n",
      "dead robot                    當機器                 當機器                 \n",
      "Alibaba Cloud                 阿里雲計算               阿里雲計算               \n",
      "Tudou Video                   土豆視頻                土豆視頻                \n",
      "Sogou Search                  搜狗搜索                搜狗搜索                \n",
      "Hong Kong Supplementary Cha...香港增補字符集             香港增補字符集             \n",
      "wubi                          五筆字型                五筆字型                \n",
      "HDMI                          高清多媒體接口             高畫質多媒體介面            \n",
      "personal website              個人網站                個人網站                \n",
      "visit link                    訪問鏈接                造訪連結                \n",
      "Active region                 放大區                 主動區                 \n",
      "Collector junction            集電結                 集極接面                \n",
      "Early effect                  厄利效應                爾利效應                \n",
      "Fluorescent                   熒光                  螢光                  \n",
      "JFET                          結型場效應管              接面場效電晶體             \n",
      "NOR gate                      或非門                 反或閘                 \n",
      "P-N junction                  P-N結                P-N接面               \n",
      "Schmitt trigger               施密特觸發器              施密特觸發器              \n",
      "System in package, SiP        封裝內系統               封裝體系                \n",
      "P-n junction                  P-n結                P-n接面               \n",
      "Time division                 時分                  分時                  \n",
      "Baud rate                     波特率                 鮑率                  \n",
      "External                      外置                  外接                  \n",
      "high fidelity (Hi-Fi)         高保真                 高傳真                 \n",
      "database library              數據庫庫                資料函式庫               \n"
     ]
    }
   ],
   "source": [
    "\n",
    "# 動態計算最大長度\n",
    "def format_and_trim(text, max_length):\n",
    "    if len(text) > max_length:\n",
    "        return text[:max_length-3] + '...'\n",
    "    return text.ljust(max_length)\n",
    "\n",
    "\n",
    "\n",
    "# 計算最大長度\n",
    "max_length_english = max(len(format_and_trim(detail['english'], 30)) for detail in translation_dict.values())\n",
    "max_length_simplified = max(len(format_and_trim(simplified, 20)) for simplified in translation_dict.keys())\n",
    "max_length_traditional = max(len(format_and_trim(detail['traditional'], 20)) for detail in translation_dict.values())\n",
    "\n",
    "# 打印表頭\n",
    "print(f\"{'English'.ljust(max_length_english)}{'Simplified'.ljust(max_length_simplified)}{'Traditional'.ljust(max_length_traditional)}\")\n",
    "print(\"-\" * (max_length_english + max_length_simplified + max_length_traditional))\n",
    "\n",
    "# 計算抽樣間隔\n",
    "total_entries = len(translation_dict)\n",
    "samples_to_show = 100  # 顯示條目數\n",
    "step = max(1, math.ceil(total_entries / samples_to_show))\n",
    "\n",
    "# 打印抽樣條目\n",
    "for index, (simplified, details) in enumerate(translation_dict.items()):\n",
    "    if index % step == 0:\n",
    "        traditional = format_and_trim(details['traditional'], max_length_traditional)\n",
    "        english = format_and_trim(details.get('english', ''), max_length_english)  \n",
    "        simplified = format_and_trim(simplified, max_length_simplified)\n",
    "        print(f\"{english}{simplified}{traditional}\")\n"
   ]
  },
  {
   "cell_type": "markdown",
   "id": "f1ef2a22",
   "metadata": {},
   "source": [
    "## 依序打印數據100比"
   ]
  },
  {
   "cell_type": "code",
   "execution_count": 33,
   "id": "34758b9b",
   "metadata": {},
   "outputs": [
    {
     "name": "stdout",
     "output_type": "stream",
     "text": [
      "operation system              操作系統                作業系統                \n",
      "data execution protection     數據執行保護              系統記憶體保護             \n",
      "device                        設備                  裝置                  \n",
      "Help                          幫助                  說明                  \n",
      "thumbnail                     縮略圖                 縮圖                  \n",
      "Log Off                       註銷                  登出                  \n",
      "search                        搜索                  搜尋                  \n",
      "refresh                       刷新                  重新整理                \n",
      "performance                   性能                  效能                  \n",
      "font                          字體                  字型                  \n",
      "view                          查看                  檢視                  \n",
      "Favorites                     收藏夾                 我的最愛                \n",
      "byte                          字節                  位元組                 \n",
      "icon                          圖標                  圖示                  \n",
      "check button                  複選按鈕                核取按鈕                \n",
      "checkbox                      複選框                 勾選框                 \n",
      "dialog box                    對話框                 對話方塊                \n",
      "bitmap                        位圖                  點陣圖                 \n",
      "pointer                       指針                  指標                  \n",
      "template                      模板                  模板                  \n",
      "create                        創建                  建立                  \n",
      "product key                   產品密鑰                產品金鑰                \n",
      "dock                          貼靠                  貼齊                  \n",
      "User                          用戶                  使用者                 \n",
      "username                      用戶名                 使用者名稱               \n",
      "Monitor                       顯示器                 監視器                 \n",
      "Speaker                       揚聲器                 喇叭                  \n",
      "VGA                           顯示卡                 視訊卡                 \n",
      "scanner                       掃描儀                 掃描器                 \n",
      "task bar                      任務欄                 工作列                 \n",
      "Task view                     任務視圖                工作檢視                \n",
      "windows                       窗口                  視窗                  \n",
      "Jump List                     跳轉列表                跳躍清單                \n",
      "Start Menu                    開始菜單                開始功能表               \n",
      "DreamScene                    夢幻桌面                DreamScene          \n",
      "Windows Explorer              資源管理器               檔案總管                \n",
      "Saved Search                  已保存的搜索              儲存的搜尋               \n",
      "library                       庫                   庫                   \n",
      "Recycle Bin                   回收站                 資源回收筒               \n",
      "menu                          菜單                  選單                  \n",
      "Windows Control Panel         Windows 控制面板        Windows 控制台         \n",
      "Personalize                   個性化                 個人化                 \n",
      "Security Center               安全中心                資訊安全中心              \n",
      "Action Center                 操作中心                重要訊息中心              \n",
      "Device Stage                  Device Stage        裝置舞台                \n",
      "Parental Controls             家長控制                家長監護                \n",
      "Easy Access                   輕鬆訪問                輕鬆存取                \n",
      "troubleshooting               疑難解答                疑難排解                \n",
      "Device Manager                設備管理器               裝置管理員               \n",
      "User Account Control          用戶帳戶控制              使用者帳戶控制             \n",
      "Regional and Language Options 區域和語言選項             地區及語言選項             \n",
      "process                       進程                  行程                  \n",
      "threads                       線程                  執行緒                 \n",
      "Home Group                    家庭組                 家用群組                \n",
      "registry                      註冊表                 登錄檔                 \n",
      "Registry Tool                 註冊表編輯器              登錄編輯程式              \n",
      "File System                   文件系統                檔案系統                \n",
      "kernel transaction manager    內核事務管理器             核心交易管理員             \n",
      "Task Scheduler                計劃任務                工作排程器               \n",
      "File Replication Service      文件複製服務              檔案複寫服務              \n",
      "security account manager      安全帳戶管理器             安全性帳戶管理員            \n",
      "group policy                  組策略                 群組原則                \n",
      "Snipping Tool                 截圖工具                剪取工具                \n",
      "calculator                    計算器                 計算機                 \n",
      "Disk Cleanup                  磁盤清理                磁碟清理                \n",
      "defragmentation program       磁盤碎片整理程序            磁碟重組工具              \n",
      "DVD Maker                     DVD Maker           DVD 製作程式            \n",
      "Photo Gallery                 照片庫                 相片圖庫                \n",
      "Calendar                      日曆                  行事曆                 \n",
      "WordPad                       寫字板                 WordPad             \n",
      "Paint                         畫圖                  小畫家                 \n",
      "Windows Write                 書寫器                 小作家                 \n",
      "Windows Sidebar               邊欄                  資訊看板                \n",
      "Narrator                      講述人                 朗讀程式                \n",
      "Windows Photo Viewer          Windows照片查看器        Windows相片檢視器        \n",
      "Windows Speech Recognition    語音識別                語音辨識                \n",
      "On-Screen Keyboard            屏幕鍵盤                螢幕小鍵盤               \n",
      "Windows Journey               Windows 日記本         Windows 筆記本         \n",
      "Sticky Notes                  便箋                  自黏便箋                \n",
      "Command Prompt                命令提示符               命令提示字元              \n",
      "Mobility Center               移動中心                行動中心                \n",
      "System Configuration Utility  系統配置實用程序            系統設定公用程式            \n",
      "Ease of Access                易用性                 輕鬆存取                \n",
      "System Configuration          系統配置                系統設定                \n",
      "Volume Shadow Copy            卷影複製                磁碟區陰影複製             \n",
      "Starter Edition               入門版                 簡易版                 \n",
      "Home Edition                  家庭版                 家用版                 \n",
      "Home Basic                    家庭普通版               家用入門版               \n",
      "Home Premium                  家庭高級版               家用進階版               \n",
      "Ultimate                      旗艦版                 旗艦版                 \n",
      "apple                         應用                  套用                  \n",
      "Extended Support              擴展支持                延伸支援                \n",
      "File managers                 文件管理器               檔案管理員               \n",
      "News and Interests            資訊和興趣               新聞和興趣               \n",
      "System Resource Manager       系統資源管理器             系統資源管理員             \n",
      "tile                          磁貼                  磚                   \n",
      "transform                     變換                  轉換                  \n",
      "inverse transform             逆變換                 反轉換                 \n",
      "Convolution                   卷積                  摺積                  \n",
      "Fourier                       傅里葉                 傅立葉                 \n"
     ]
    }
   ],
   "source": [
    "for index, (simplified, details) in enumerate(translation_dict.items()):\n",
    "    if index < 100:\n",
    "        traditional = format_and_trim(details['traditional'], max_length_traditional)\n",
    "        english = format_and_trim(details['english'], max_length_english)\n",
    "        simplified = format_and_trim(simplified, max_length_simplified)\n",
    "        print(f\"{english.ljust(max_length_english)}{simplified.ljust(max_length_simplified)}{traditional.ljust(max_length_traditional)}\")\n"
   ]
  },
  {
   "cell_type": "code",
   "execution_count": 34,
   "id": "1a25d872-9082-43ea-8668-9b404f7a9e0c",
   "metadata": {},
   "outputs": [],
   "source": [
    "def process_po_file(input_file, output_file, translation_dict, auto_mode=False, debug_mode=False, logging_mode=False):\n",
    "    pattern = re.compile(r'^(msgid|msgstr)\\s+\"(.+?)\"$')\n",
    "    log_directory = \"log\"\n",
    "    log_file_name = os.path.join(log_directory, datetime.datetime.now().strftime(\"%Y%m%d-%H%M%S\") + \".log\")\n",
    "    \n",
    "    # 確保日誌目錄存在\n",
    "    if not os.path.exists(log_directory):\n",
    "        os.makedirs(log_directory)\n",
    "    \n",
    "    translated_count = 0  # 計算已翻譯的詞彙\n",
    "    line_number = 0  # 初始化行號變量\n",
    "    log_entries = []  # 初始化日誌條目列表\n",
    "    \n",
    "    try:\n",
    "        with open(input_file, 'r', encoding='utf-8') as infile, open(output_file, 'w', encoding='utf-8') as outfile:\n",
    "            for line in tqdm(infile, desc=\"翻譯 .po 檔案\"):\n",
    "                line_number += 1\n",
    "                if debug_mode:\n",
    "                    print(f\"原始行: {line.strip()}\")  # 打印原始行\n",
    "\n",
    "                match = pattern.match(line.strip())\n",
    "                if match:\n",
    "                    tag, original_text = match.groups()\n",
    "                    translated_text, auto_mode, stop_processing = replace_text(original_text, translation_dict, auto_mode)\n",
    "                    if stop_processing:\n",
    "                        print(\"使用者選擇停止處理。\")\n",
    "                        break\n",
    "                    newline = f'{tag} \"{translated_text}\"\\n'\n",
    "                    outfile.write(newline)\n",
    "\n",
    "                    if original_text != translated_text:\n",
    "                        translated_count += 1\n",
    "                        if logging_mode:\n",
    "                            log_entry = f\"[{line_number}:{tag}] <{original_text}> -> <{translated_text}>\\n\"\n",
    "                            log_entries.append(log_entry)\n",
    "                    \n",
    "                    if debug_mode:\n",
    "                        print(f\"翻譯行: {newline.strip()}\")\n",
    "\n",
    "                else:\n",
    "                    outfile.write(line)\n",
    "                    if debug_mode:\n",
    "                        print(f\"未更改行: {line.strip()}\")\n",
    "\n",
    "        if logging_mode and log_entries:\n",
    "            with open(log_file_name, 'w', encoding='utf-8') as log_file:\n",
    "                log_file.writelines(log_entries)\n",
    "\n",
    "        print(f\"總共翻譯了 {translated_count} 個簡體詞彙\")\n",
    "\n",
    "    except Exception as e:\n",
    "        print(f\"處理檔案錯誤: {e}\")"
   ]
  },
  {
   "cell_type": "code",
   "execution_count": 35,
   "id": "421890bb-8340-45a8-8249-2be8ea162070",
   "metadata": {},
   "outputs": [
    {
     "name": "stderr",
     "output_type": "stream",
     "text": [
      "翻譯 .po 檔案: 0it [00:00, ?it/s]"
     ]
    },
    {
     "name": "stdout",
     "output_type": "stream",
     "text": [
      "找到的文字: '工藝' 可以被替換成 '製程'.\n",
      "只有一個選擇可用。按 Enter 鍵跳過。\n",
      "輸入 'auto' 切換到自動替換模式，輸入 'stop' 停止處理。\n"
     ]
    },
    {
     "name": "stderr",
     "output_type": "stream",
     "text": [
      "翻譯 .po 檔案: 61495it [00:06, 9491.69it/s] "
     ]
    },
    {
     "name": "stdout",
     "output_type": "stream",
     "text": [
      "總共翻譯了 1918 個簡體詞彙\n"
     ]
    },
    {
     "name": "stderr",
     "output_type": "stream",
     "text": [
      "\n"
     ]
    }
   ],
   "source": [
    "process_po_file(input_document, output_document, translation_dict, auto_mode, debug_mode, logging_mode)\n"
   ]
  }
 ],
 "metadata": {
  "kernelspec": {
   "display_name": "Python 3 (ipykernel)",
   "language": "python",
   "name": "python3"
  },
  "language_info": {
   "codemirror_mode": {
    "name": "ipython",
    "version": 3
   },
   "file_extension": ".py",
   "mimetype": "text/x-python",
   "name": "python",
   "nbconvert_exporter": "python",
   "pygments_lexer": "ipython3",
   "version": "3.8.19"
  }
 },
 "nbformat": 4,
 "nbformat_minor": 5
}
