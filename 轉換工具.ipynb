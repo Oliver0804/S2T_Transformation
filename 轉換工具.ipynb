{
 "cells": [
  {
   "cell_type": "code",
   "execution_count": 1,
   "id": "ca60df29-a15a-4561-a2ca-ab8e172e51f6",
   "metadata": {},
   "outputs": [],
   "source": [
    "import os\n",
    "import re\n",
    "import datetime\n",
    "import csv\n",
    "\n",
    "from odf.opendocument import load\n",
    "from odf.table import Table, TableRow, TableCell\n",
    "from odf.text import P\n",
    "from tqdm import tqdm\n",
    "from opencc import OpenCC\n",
    "\n",
    "#檔案清單轉換為list\n",
    "def find_ods_files(directory):\n",
    "    ods_files = []\n",
    "    for filename in os.listdir(directory):\n",
    "        if filename.endswith(\".ods\"):\n",
    "            ods_files.append(os.path.join(directory, filename))\n",
    "    return ods_files\n",
    "def find_csv_files(directory):\n",
    "    csv_files = []\n",
    "    for filename in os.listdir(directory):\n",
    "        if filename.endswith(\".csv\"):\n",
    "            csv_files.append(os.path.join(directory, filename))\n",
    "    # 最倒序排列\n",
    "    csv_files.sort(reverse=True)\n",
    "    return csv_files\n",
    "\n",
    "def simplify_to_traditional(simplified_text):\n",
    "    cc = OpenCC('s2t')  # 簡體字轉換為繁體\n",
    "    return cc.convert(simplified_text)\n",
    "\n",
    "def get_text_from_cell(cell):\n",
    "    text_content = []\n",
    "    for p in cell.getElementsByType(P):\n",
    "        text_content.append(\"\".join(node.data for node in p.childNodes if node.nodeType == node.TEXT_NODE))\n",
    "    return \"\".join(text_content).strip()\n",
    "\n",
    "def load_translation_table_from_ods(file_paths):\n",
    "    translation_dict = {}\n",
    "    for file_path in file_paths:\n",
    "        doc = load(file_path)\n",
    "        tables = doc.spreadsheet.getElementsByType(Table)\n",
    "        print(f\"Number of tables found: {len(tables)}\")  \n",
    "        for table in tables:\n",
    "            rows = list(table.getElementsByType(TableRow))\n",
    "            print(f\"Processing {len(rows)} rows in table\")  \n",
    "            for row in tqdm(rows, desc=\"Processing rows\"):\n",
    "                cells = row.getElementsByType(TableCell)\n",
    "                if len(cells) >= 5: \n",
    "                    simplified = get_text_from_cell(cells[4])\n",
    "                    traditional = get_text_from_cell(cells[2])\n",
    "                    english = get_text_from_cell(cells[1])  # 英文\n",
    "                    # 簡體字轉繁體\n",
    "                    traditional_simplified = simplify_to_traditional(simplified)\n",
    "                    translation_dict[traditional_simplified] = {'traditional': traditional, 'english': english}\n",
    "    return translation_dict\n",
    "\n",
    "\n",
    "def load_translation_table_from_csv(file_paths):\n",
    "    translation_dict = {}\n",
    "    duplicate_count = 0  # 计数重复的词汇\n",
    "    ignored_count = 0    # 计数因缺失字段而忽略的行\n",
    "    for file_path in file_paths:\n",
    "        with open(file_path, newline='', encoding='utf-8') as csvfile:\n",
    "            reader = csv.DictReader(csvfile)\n",
    "            # 使用tqdm包装reader，提供进度条\n",
    "            for row in tqdm(reader, desc=f\"Processing {file_path}\"):\n",
    "                simplified = row['zh-cn'].strip()\n",
    "                traditional = row['zh-tw'].strip()\n",
    "                english = row['en'].strip()\n",
    "                if simplified and traditional and english:\n",
    "                    traditional_simplified = simplify_to_traditional(simplified)\n",
    "                    if traditional_simplified in translation_dict:\n",
    "                        duplicate_count += 1\n",
    "                    translation_dict[traditional_simplified] = {'traditional': traditional, 'english': english}\n",
    "                else:\n",
    "                    ignored_count += 1\n",
    "            print(f\"Total rows processed in {file_path}: {reader.line_num - 1}\")  # line_num 计算包括标题行在内的行数\n",
    "    print(f\"Duplicates found: {duplicate_count}\")\n",
    "    print(f\"Rows ignored due to missing fields: {ignored_count}\")\n",
    "    return translation_dict\n",
    "\n"
   ]
  },
  {
   "cell_type": "code",
   "execution_count": 2,
   "id": "aba3c5cb-1cc6-4fa5-a572-de618f7a85d1",
   "metadata": {},
   "outputs": [],
   "source": [
    "def replace_text(line, translation_dict, auto_mode):\n",
    "    auto_replace = auto_mode\n",
    "    stop_processing = False\n",
    "    matches = []\n",
    "\n",
    "    # 尋找所有可能的替換\n",
    "    for simplified, details in translation_dict.items():\n",
    "        start = 0\n",
    "        while simplified in line[start:]:\n",
    "            start = line.find(simplified, start)\n",
    "            if start == -1:\n",
    "                break\n",
    "            end = start + len(simplified)\n",
    "            matches.append((start, end, simplified, details))\n",
    "            start += len(simplified)  # 避免重複檢查\n",
    "\n",
    "    # 按起始位置和長度排序，實現最長匹配優先\n",
    "    matches.sort(key=lambda x: (x[0], x[1] - x[0]), reverse=True)\n",
    "\n",
    "    replaced_ranges = []\n",
    "    for start, end, simplified, details in matches:\n",
    "        if any(start >= r[0] and end <= r[1] for r in replaced_ranges):\n",
    "            continue  # 如果當前詞已經在替換範圍內，則跳過\n",
    "\n",
    "        traditional_text = details['traditional']\n",
    "        traditional_choices = traditional_text.split('；')\n",
    "        chosen_traditional = traditional_choices[0]  # 預設選擇第一組\n",
    "\n",
    "        if not auto_replace:\n",
    "            print(f\"找到的文字: '{simplified}' 可以被替換成 '{chosen_traditional}'.\")\n",
    "            if len(traditional_choices) > 1:\n",
    "                print(f\"為 '{simplified}' 提供了多個選擇:\")\n",
    "                for idx, choice in enumerate(traditional_choices, 1):\n",
    "                    print(f\"{idx}. {choice}\")\n",
    "                print(f\"{len(traditional_choices) + 1}. 跳過替換\")\n",
    "            else:\n",
    "                print(\"只有一個選擇可用。按 Enter 鍵跳過。\")\n",
    "            print(\"輸入 'auto' 切換到自動替換模式，輸入 'stop' 停止處理。\")\n",
    "\n",
    "            user_input = input(\"輸入編號進行替換，'auto' 自動替換，'stop' 停止，'n' 跳過: \").strip().lower()\n",
    "            if user_input == 'auto':\n",
    "                auto_replace = True\n",
    "                chosen_traditional = traditional_choices[0]\n",
    "            elif user_input == 'stop':\n",
    "                stop_processing = True\n",
    "                break\n",
    "            elif user_input == 'n':\n",
    "                continue\n",
    "            elif user_input.isdigit():\n",
    "                choice_index = int(user_input) - 1\n",
    "                if 0 <= choice_index < len(traditional_choices):\n",
    "                    chosen_traditional = traditional_choices[choice_index]\n",
    "                else:\n",
    "                    print(\"無效的選擇，跳過替換。\")\n",
    "                    continue\n",
    "            elif user_input == \"\":\n",
    "                # 沒有輸入任何值，使用預設選項進行替換\n",
    "                print(f\"進行替換: '{simplified}' -> '{chosen_traditional}'\")\n",
    "            else:\n",
    "                print(\"無效的輸入，跳過替換。\")\n",
    "                continue\n",
    "\n",
    "        # 替換文字並更新替換範圍\n",
    "        line = line[:start] + chosen_traditional + line[end:]\n",
    "        replaced_ranges.append((start, start + len(chosen_traditional)))\n",
    "\n",
    "    return line, auto_replace, stop_processing\n"
   ]
  },
  {
   "cell_type": "code",
   "execution_count": 3,
   "id": "93b8352d-4ea3-45ad-bd94-00af8adb2aa7",
   "metadata": {},
   "outputs": [
    {
     "name": "stdout",
     "output_type": "stream",
     "text": [
      "['dataset/兩岸對照名詞-計算機壓縮檔_Oliver微調.ods']\n",
      "['./wikiCGroupTools/outputData/CGroup_Windows_Data.csv', './wikiCGroupTools/outputData/CGroup_SignalsandSystems_Data.csv', './wikiCGroupTools/outputData/CGroup_MediaWiki_Data.csv', './wikiCGroupTools/outputData/CGroup_IT_Temp_Data.csv', './wikiCGroupTools/outputData/CGroup_IT_Data.csv', './wikiCGroupTools/outputData/CGroup_Electronics_Data.csv', './wikiCGroupTools/outputData/CGroup_Communication_Data.csv', './wikiCGroupTools/outputData/0_Kicad_PoMingLee.csv']\n"
     ]
    }
   ],
   "source": [
    "# 設置ods文件路徑\n",
    "directory_path = \"dataset\"\n",
    "ods_files = find_ods_files(directory_path)\n",
    "print(ods_files)\n",
    "# 載入csv翻譯表\n",
    "directory_path = \"./wikiCGroupTools/outputData\"\n",
    "csv_files = find_csv_files(directory_path)\n",
    "print(csv_files)"
   ]
  },
  {
   "cell_type": "code",
   "execution_count": 4,
   "id": "cbafd0da-4d52-46ab-88dc-8758d609ebbb",
   "metadata": {},
   "outputs": [
    {
     "name": "stderr",
     "output_type": "stream",
     "text": [
      "Processing ./wikiCGroupTools/outputData/CGroup_Windows_Data.csv: 104it [00:01, 70.86it/s]\n"
     ]
    },
    {
     "name": "stdout",
     "output_type": "stream",
     "text": [
      "Total rows processed in ./wikiCGroupTools/outputData/CGroup_Windows_Data.csv: 104\n"
     ]
    },
    {
     "name": "stderr",
     "output_type": "stream",
     "text": [
      "Processing ./wikiCGroupTools/outputData/CGroup_SignalsandSystems_Data.csv: 20it [00:00, 64.98it/s]\n"
     ]
    },
    {
     "name": "stdout",
     "output_type": "stream",
     "text": [
      "Total rows processed in ./wikiCGroupTools/outputData/CGroup_SignalsandSystems_Data.csv: 20\n"
     ]
    },
    {
     "name": "stderr",
     "output_type": "stream",
     "text": [
      "Processing ./wikiCGroupTools/outputData/CGroup_MediaWiki_Data.csv: 78it [00:01, 72.23it/s]\n"
     ]
    },
    {
     "name": "stdout",
     "output_type": "stream",
     "text": [
      "Total rows processed in ./wikiCGroupTools/outputData/CGroup_MediaWiki_Data.csv: 78\n"
     ]
    },
    {
     "name": "stderr",
     "output_type": "stream",
     "text": [
      "Processing ./wikiCGroupTools/outputData/CGroup_IT_Temp_Data.csv: 1107it [00:15, 73.50it/s]\n"
     ]
    },
    {
     "name": "stdout",
     "output_type": "stream",
     "text": [
      "Total rows processed in ./wikiCGroupTools/outputData/CGroup_IT_Temp_Data.csv: 1107\n"
     ]
    },
    {
     "name": "stderr",
     "output_type": "stream",
     "text": [
      "Processing ./wikiCGroupTools/outputData/CGroup_IT_Data.csv: 1136it [00:15, 72.24it/s]\n"
     ]
    },
    {
     "name": "stdout",
     "output_type": "stream",
     "text": [
      "Total rows processed in ./wikiCGroupTools/outputData/CGroup_IT_Data.csv: 1136\n"
     ]
    },
    {
     "name": "stderr",
     "output_type": "stream",
     "text": [
      "Processing ./wikiCGroupTools/outputData/CGroup_Electronics_Data.csv: 149it [00:02, 66.74it/s]\n"
     ]
    },
    {
     "name": "stdout",
     "output_type": "stream",
     "text": [
      "Total rows processed in ./wikiCGroupTools/outputData/CGroup_Electronics_Data.csv: 149\n"
     ]
    },
    {
     "name": "stderr",
     "output_type": "stream",
     "text": [
      "Processing ./wikiCGroupTools/outputData/CGroup_Communication_Data.csv: 94it [00:01, 69.87it/s]\n"
     ]
    },
    {
     "name": "stdout",
     "output_type": "stream",
     "text": [
      "Total rows processed in ./wikiCGroupTools/outputData/CGroup_Communication_Data.csv: 94\n"
     ]
    },
    {
     "name": "stderr",
     "output_type": "stream",
     "text": [
      "Processing ./wikiCGroupTools/outputData/0_Kicad_PoMingLee.csv: 83it [00:00, 89.74it/s] "
     ]
    },
    {
     "name": "stdout",
     "output_type": "stream",
     "text": [
      "Total rows processed in ./wikiCGroupTools/outputData/0_Kicad_PoMingLee.csv: 83\n",
      "Duplicates found: 1159\n",
      "Rows ignored due to missing fields: 227\n",
      "Number of entries in translation dictionary: 1385\n"
     ]
    },
    {
     "name": "stderr",
     "output_type": "stream",
     "text": [
      "\n"
     ]
    }
   ],
   "source": [
    "#針對taotieren事件採用繁體字的大陸詞彙\n",
    "#會將大陸詞彙轉換為繁體字的大陸詞彙的預處理\n",
    "\n",
    "# 載入樂詞網翻譯表\n",
    "#translation_dict = load_translation_table_from_ods(ods_files) \n",
    "\n",
    "# 載入WIKI轉換的 csv翻譯表\n",
    "translation_dict = load_translation_table_from_csv(csv_files)\n",
    "\n",
    "\n",
    "#打印個別\n",
    "# 打印translation_dict目前詞彙數量\n",
    "print(f\"Number of entries in translation dictionary: {len(translation_dict)}\")"
   ]
  },
  {
   "cell_type": "code",
   "execution_count": 5,
   "id": "ca657b06-7df2-499a-900a-56db2895e9c0",
   "metadata": {},
   "outputs": [
    {
     "name": "stdout",
     "output_type": "stream",
     "text": [
      "English                       Simplified         Traditional        \n",
      "--------------------------------------------------------------------\n",
      "operation system              操作系統               作業系統               \n",
      "data execution protection     數據執行保護             系統記憶體保護            \n",
      "device                        設備                 裝置                 \n",
      "Help                          幫助                 說明                 \n",
      "thumbnail                     縮略圖                縮圖                 \n",
      "Log Off                       註銷                 登出                 \n",
      "search                        搜索                 搜尋                 \n",
      "refresh                       刷新                 重新整理               \n",
      "performance                   性能                 效能                 \n",
      "font                          字體                 字型                 \n"
     ]
    }
   ],
   "source": [
    "# format_and_trim\n",
    "def format_and_trim(text, max_length):\n",
    "    if len(text) > max_length:\n",
    "        return text[:max_length-3] + '...'\n",
    "    return text\n",
    "\n",
    "# 動態計算為了未來py文件於終端機運行\n",
    "max_length_english = max(len(format_and_trim(detail['english'], 30)) for simplified, detail in translation_dict.items())\n",
    "max_length_simplified = max(len(format_and_trim(simplified, 20)) for simplified in translation_dict.keys())\n",
    "max_length_traditional = max(len(format_and_trim(detail['traditional'], 20)) for simplified, detail in translation_dict.items())\n",
    "\n",
    "# 欄位資訊\n",
    "print(f\"{'English'.ljust(max_length_english)}{'Simplified'.ljust(max_length_simplified)}{'Traditional'.ljust(max_length_traditional)}\")\n",
    "print(\"-\" * (max_length_english + max_length_simplified + max_length_traditional))\n",
    "\n",
    "\n",
    "for index, (simplified, details) in enumerate(translation_dict.items()):\n",
    "    if index < 10:\n",
    "        traditional = format_and_trim(details['traditional'], max_length_traditional)\n",
    "        english = format_and_trim(details['english'], max_length_english)\n",
    "        simplified = format_and_trim(simplified, max_length_simplified)\n",
    "        print(f\"{english.ljust(max_length_english)}{simplified.ljust(max_length_simplified)}{traditional.ljust(max_length_traditional)}\")\n"
   ]
  },
  {
   "cell_type": "code",
   "execution_count": 6,
   "id": "86f4057d-09a7-44d8-8c96-ae48b707887a",
   "metadata": {},
   "outputs": [],
   "source": [
    "#input_document = \"KiCad_dev_testdata.po\"\n",
    "input_document = \"KiCad Taipei source zh Hant.po\"\n",
    "output_document = \"KiCad Taipei source zh Hant_translated.po\"\n",
    "auto_mode = False  # 自動模式\n",
    "debug_mode = False  # 開啟會打印更多資訊\n",
    "logging_mode = True #如果開啟 會將有翻譯的行數與翻譯前後結果記錄於另外檔案"
   ]
  },
  {
   "cell_type": "code",
   "execution_count": 7,
   "id": "1a25d872-9082-43ea-8668-9b404f7a9e0c",
   "metadata": {},
   "outputs": [],
   "source": [
    "def process_po_file(input_file, output_file, translation_dict, auto_mode=False, debug_mode=False, logging_mode=False):\n",
    "    pattern = re.compile(r'^(msgid|msgstr)\\s+\"(.+?)\"$')\n",
    "    log_directory = \"log\"\n",
    "    log_file_name = os.path.join(log_directory, datetime.datetime.now().strftime(\"%Y%m%d-%H%M%S\") + \".log\")\n",
    "    \n",
    "    # 確保日誌目錄存在\n",
    "    if not os.path.exists(log_directory):\n",
    "        os.makedirs(log_directory)\n",
    "    \n",
    "    translated_count = 0  # 計算已翻譯的詞彙\n",
    "    line_number = 0  # 初始化行號變量\n",
    "    log_entries = []  # 初始化日誌條目列表\n",
    "    \n",
    "    try:\n",
    "        with open(input_file, 'r', encoding='utf-8') as infile, open(output_file, 'w', encoding='utf-8') as outfile:\n",
    "            for line in tqdm(infile, desc=\"翻譯 .po 檔案\"):\n",
    "                line_number += 1\n",
    "                if debug_mode:\n",
    "                    print(f\"原始行: {line.strip()}\")  # 打印原始行\n",
    "\n",
    "                match = pattern.match(line.strip())\n",
    "                if match:\n",
    "                    tag, original_text = match.groups()\n",
    "                    translated_text, auto_mode, stop_processing = replace_text(original_text, translation_dict, auto_mode)\n",
    "                    if stop_processing:\n",
    "                        print(\"使用者選擇停止處理。\")\n",
    "                        break\n",
    "                    newline = f'{tag} \"{translated_text}\"\\n'\n",
    "                    outfile.write(newline)\n",
    "\n",
    "                    if original_text != translated_text:\n",
    "                        translated_count += 1\n",
    "                        if logging_mode:\n",
    "                            log_entry = f\"[{line_number}:{tag}] <{original_text}> -> <{translated_text}>\\n\"\n",
    "                            log_entries.append(log_entry)\n",
    "                    \n",
    "                    if debug_mode:\n",
    "                        print(f\"翻譯行: {newline.strip()}\")\n",
    "\n",
    "                else:\n",
    "                    outfile.write(line)\n",
    "                    if debug_mode:\n",
    "                        print(f\"未更改行: {line.strip()}\")\n",
    "\n",
    "        if logging_mode and log_entries:\n",
    "            with open(log_file_name, 'w', encoding='utf-8') as log_file:\n",
    "                log_file.writelines(log_entries)\n",
    "\n",
    "        print(f\"總共翻譯了 {translated_count} 個簡體詞彙\")\n",
    "\n",
    "    except Exception as e:\n",
    "        print(f\"處理檔案錯誤: {e}\")"
   ]
  },
  {
   "cell_type": "code",
   "execution_count": 8,
   "id": "421890bb-8340-45a8-8249-2be8ea162070",
   "metadata": {},
   "outputs": [
    {
     "name": "stderr",
     "output_type": "stream",
     "text": [
      "翻譯 .po 檔案: 0it [00:00, ?it/s]"
     ]
    },
    {
     "name": "stdout",
     "output_type": "stream",
     "text": [
      "找到的文字: '工藝' 可以被替換成 '製程'.\n",
      "只有一個選擇可用。按 Enter 鍵跳過。\n",
      "輸入 'auto' 切換到自動替換模式，輸入 'stop' 停止處理。\n"
     ]
    },
    {
     "name": "stdout",
     "output_type": "stream",
     "text": [
      "輸入編號進行替換，'auto' 自動替換，'stop' 停止，'n' 跳過:  auto\n"
     ]
    },
    {
     "name": "stderr",
     "output_type": "stream",
     "text": [
      "翻譯 .po 檔案: 61495it [00:05, 11225.74it/s]"
     ]
    },
    {
     "name": "stdout",
     "output_type": "stream",
     "text": [
      "總共翻譯了 2271 個簡體詞彙\n"
     ]
    },
    {
     "name": "stderr",
     "output_type": "stream",
     "text": [
      "\n"
     ]
    }
   ],
   "source": [
    "process_po_file(input_document, output_document, translation_dict, auto_mode, debug_mode, logging_mode)\n"
   ]
  }
 ],
 "metadata": {
  "kernelspec": {
   "display_name": "Python 3 (ipykernel)",
   "language": "python",
   "name": "python3"
  },
  "language_info": {
   "codemirror_mode": {
    "name": "ipython",
    "version": 3
   },
   "file_extension": ".py",
   "mimetype": "text/x-python",
   "name": "python",
   "nbconvert_exporter": "python",
   "pygments_lexer": "ipython3",
   "version": "3.8.19"
  }
 },
 "nbformat": 4,
 "nbformat_minor": 5
}
